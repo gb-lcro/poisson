{
  "nbformat": 4,
  "nbformat_minor": 0,
  "metadata": {
    "colab": {
      "provenance": [],
      "authorship_tag": "ABX9TyPW+nhfeP1RT+u84S1BbMEy",
      "include_colab_link": true
    },
    "kernelspec": {
      "name": "python3",
      "display_name": "Python 3"
    },
    "language_info": {
      "name": "python"
    }
  },
  "cells": [
    {
      "cell_type": "markdown",
      "metadata": {
        "id": "view-in-github",
        "colab_type": "text"
      },
      "source": [
        "<a href=\"https://colab.research.google.com/github/gb-lcro/poisson/blob/main/pinn_adapt_mesh.ipynb\" target=\"_parent\"><img src=\"https://colab.research.google.com/assets/colab-badge.svg\" alt=\"Open In Colab\"/></a>"
      ]
    },
    {
      "cell_type": "code",
      "execution_count": 1,
      "metadata": {
        "colab": {
          "base_uri": "https://localhost:8080/"
        },
        "id": "woxvWL4e9Uth",
        "outputId": "b900c938-95b0-43d9-bfb5-b599f8954ebf"
      },
      "outputs": [
        {
          "output_type": "stream",
          "name": "stdout",
          "text": [
            "Requirement already satisfied: pyvista in /usr/local/lib/python3.11/dist-packages (0.44.2)\n",
            "Requirement already satisfied: matplotlib>=3.0.1 in /usr/local/lib/python3.11/dist-packages (from pyvista) (3.10.0)\n",
            "Requirement already satisfied: numpy>=1.21.0 in /usr/local/lib/python3.11/dist-packages (from pyvista) (1.26.4)\n",
            "Requirement already satisfied: pillow in /usr/local/lib/python3.11/dist-packages (from pyvista) (11.1.0)\n",
            "Requirement already satisfied: pooch in /usr/local/lib/python3.11/dist-packages (from pyvista) (1.8.2)\n",
            "Requirement already satisfied: scooby>=0.5.1 in /usr/local/lib/python3.11/dist-packages (from pyvista) (0.10.0)\n",
            "Requirement already satisfied: vtk<9.4.0 in /usr/local/lib/python3.11/dist-packages (from pyvista) (9.3.1)\n",
            "Requirement already satisfied: typing-extensions in /usr/local/lib/python3.11/dist-packages (from pyvista) (4.12.2)\n",
            "Requirement already satisfied: contourpy>=1.0.1 in /usr/local/lib/python3.11/dist-packages (from matplotlib>=3.0.1->pyvista) (1.3.1)\n",
            "Requirement already satisfied: cycler>=0.10 in /usr/local/lib/python3.11/dist-packages (from matplotlib>=3.0.1->pyvista) (0.12.1)\n",
            "Requirement already satisfied: fonttools>=4.22.0 in /usr/local/lib/python3.11/dist-packages (from matplotlib>=3.0.1->pyvista) (4.55.8)\n",
            "Requirement already satisfied: kiwisolver>=1.3.1 in /usr/local/lib/python3.11/dist-packages (from matplotlib>=3.0.1->pyvista) (1.4.8)\n",
            "Requirement already satisfied: packaging>=20.0 in /usr/local/lib/python3.11/dist-packages (from matplotlib>=3.0.1->pyvista) (24.2)\n",
            "Requirement already satisfied: pyparsing>=2.3.1 in /usr/local/lib/python3.11/dist-packages (from matplotlib>=3.0.1->pyvista) (3.2.1)\n",
            "Requirement already satisfied: python-dateutil>=2.7 in /usr/local/lib/python3.11/dist-packages (from matplotlib>=3.0.1->pyvista) (2.8.2)\n",
            "Requirement already satisfied: platformdirs>=2.5.0 in /usr/local/lib/python3.11/dist-packages (from pooch->pyvista) (4.3.6)\n",
            "Requirement already satisfied: requests>=2.19.0 in /usr/local/lib/python3.11/dist-packages (from pooch->pyvista) (2.32.3)\n",
            "Requirement already satisfied: six>=1.5 in /usr/local/lib/python3.11/dist-packages (from python-dateutil>=2.7->matplotlib>=3.0.1->pyvista) (1.17.0)\n",
            "Requirement already satisfied: charset-normalizer<4,>=2 in /usr/local/lib/python3.11/dist-packages (from requests>=2.19.0->pooch->pyvista) (3.4.1)\n",
            "Requirement already satisfied: idna<4,>=2.5 in /usr/local/lib/python3.11/dist-packages (from requests>=2.19.0->pooch->pyvista) (3.10)\n",
            "Requirement already satisfied: urllib3<3,>=1.21.1 in /usr/local/lib/python3.11/dist-packages (from requests>=2.19.0->pooch->pyvista) (2.3.0)\n",
            "Requirement already satisfied: certifi>=2017.4.17 in /usr/local/lib/python3.11/dist-packages (from requests>=2.19.0->pooch->pyvista) (2025.1.31)\n"
          ]
        }
      ],
      "source": [
        "pip install pyvista"
      ]
    },
    {
      "cell_type": "code",
      "source": [
        "try:\n",
        "    import ngsolve\n",
        "except ImportError:\n",
        "    !wget \"https://fem-on-colab.github.io/releases/ngsolve-install-real.sh\" -O \"/tmp/ngsolve-install.sh\" && bash \"/tmp/ngsolve-install.sh\"\n",
        "    import ngsolve"
      ],
      "metadata": {
        "id": "O-KVxLYk9dxA"
      },
      "execution_count": 2,
      "outputs": []
    },
    {
      "cell_type": "code",
      "source": [
        "from netgen.occ import *\n",
        "from ngsolve import *\n",
        "from ngsolve.webgui import Draw\n",
        "import os\n",
        "import pyvista as pv\n",
        "import numpy as np\n",
        "import torch\n",
        "\n",
        "directory = './images/'"
      ],
      "metadata": {
        "id": "KHj3WnhF9rou"
      },
      "execution_count": 3,
      "outputs": []
    },
    {
      "cell_type": "code",
      "source": [
        "def BaseShape(l, w):\n",
        "    wp1 = WorkPlane().RectangleC(l,w).Face()\n",
        "    wp2 = WorkPlane().RectangleC(w,l).Face()\n",
        "    cross = wp1 + wp2\n",
        "    return cross\n",
        "\n",
        "\n",
        "l = 0.5\n",
        "w = 1.5\n",
        "base = BaseShape(l, w)"
      ],
      "metadata": {
        "id": "ZsQx5N6iADie"
      },
      "execution_count": 4,
      "outputs": []
    },
    {
      "cell_type": "code",
      "source": [
        "offset = 3\n",
        "figure = base\n",
        "for i in range(3):\n",
        "    for j in range(3):\n",
        "        if (i+j) % 2 == 0:\n",
        "            figure += BaseShape(i,j).Move((i*offset, j*offset, 0))\n",
        "        else:\n",
        "            if i+j == 1:\n",
        "                figure += WorkPlane().Circle(1).Face().Move((i*offset, j*offset, 0))\n",
        "            else:\n",
        "                figure += base.Mirror(Axis((0, 0, 0), (0, 1, 0))\n",
        "                      ).Move((i*offset, j*offset, 0))\n",
        "\n",
        "\n",
        "geo = WorkPlane().Rectangle(5,5).Face() -  figure.Move((-2,-2,0))\n",
        "\n",
        "geo.edges.Min(Y).name ='bottom'\n",
        "geo.edges.Max(Y).name ='top'\n",
        "geo.edges.Min(X).name ='left'\n",
        "geo.edges.Max(X).name ='right'\n",
        "\n",
        "#Draw(geo)"
      ],
      "metadata": {
        "id": "8RM9DGe5AIjc"
      },
      "execution_count": 5,
      "outputs": []
    },
    {
      "cell_type": "code",
      "source": [
        "plate = OCCGeometry(geo, dim=2)\n",
        "mesh = Mesh(plate.GenerateMesh(maxh=0.5)).Curve(3)\n",
        "\n",
        "mesh_point_count_0 = len(mesh.vertices)\n",
        "vertex_coordinate_0 = []\n",
        "\n",
        "for v in mesh.vertices:\n",
        "    vertex_coordinate_0.append(v.point)\n",
        "\n",
        "    mesh_x, mesh_y = zip(*vertex_coordinate_0) # separate tuple (veritces (x,y)) into two lists mexh_x and mesh_y\n",
        "    mesh_x = np.array(mesh_x)\n",
        "    mesh_y = np.array(mesh_y)\n",
        "\n",
        "    vertex_coordinates_0 = [mesh_x, mesh_y]  ## a list containing 2 numpy arrays\n",
        "\n",
        "#print(mesh_point_count_0)\n",
        "print(mesh_y.shape,type(mesh_y))\n",
        "print(mesh_x.shape,type(mesh_x))\n",
        "print(len(vertex_coordinates_0),type(vertex_coordinates_0))\n",
        "#Draw (mesh);"
      ],
      "metadata": {
        "id": "iGzO2LpLAXvM",
        "colab": {
          "base_uri": "https://localhost:8080/"
        },
        "outputId": "0b0ea0f2-d797-4c80-9966-7fbb3d569c48"
      },
      "execution_count": 6,
      "outputs": [
        {
          "output_type": "stream",
          "name": "stdout",
          "text": [
            "(112,) <class 'numpy.ndarray'>\n",
            "(112,) <class 'numpy.ndarray'>\n",
            "2 <class 'list'>\n"
          ]
        }
      ]
    },
    {
      "cell_type": "code",
      "source": [
        "def solve_FEM():\n",
        "    # H1-conforming finite element space\n",
        "    fes = H1(mesh, order=1, dirichlet=\"bottom\", autoupdate=True)\n",
        "    # define trial- and test-functions\n",
        "    u = fes.TrialFunction()\n",
        "    v = fes.TestFunction()\n",
        "\n",
        "    # the bilinear-form\n",
        "    a = BilinearForm(grad(u)*grad(v)*dx)\n",
        "\n",
        "    funcf = 1*x*y\n",
        "    # funcf = 50*sin(y)\n",
        "    f = LinearForm(funcf*v*dx)\n",
        "\n",
        "    a.Assemble()\n",
        "    f.Assemble()\n",
        "    # Draw(funcf,mesh)\n",
        "    gfu = GridFunction(fes)\n",
        "    gfu.vec.data = a.mat.Inverse(freedofs=fes.FreeDofs()) * f.vec\n",
        "    return gfu, fes"
      ],
      "metadata": {
        "id": "ju7IzJsgAynX"
      },
      "execution_count": 7,
      "outputs": []
    },
    {
      "cell_type": "code",
      "source": [
        "def solve_FEM_ref(ref_mesh):\n",
        "    # H1-conforming finite element space\n",
        "    fes = H1(mesh, order=1, dirichlet=\"bottom\", autoupdate=True)\n",
        "    # define trial- and test-functions\n",
        "    u = fes.TrialFunction()\n",
        "    v = fes.TestFunction()\n",
        "\n",
        "    # the bilinear-form\n",
        "    a = BilinearForm(grad(u)*grad(v)*dx)\n",
        "\n",
        "    funcf = 1*x*y\n",
        "    # funcf = 50*sin(y)\n",
        "    f = LinearForm(funcf*v*dx)\n",
        "\n",
        "    a.Assemble()\n",
        "    f.Assemble()\n",
        "    # Draw(funcf,mesh)\n",
        "    gfu = GridFunction(fes)\n",
        "    gfu.vec.data = a.mat.Inverse(freedofs=fes.FreeDofs()) * f.vec\n",
        "    return gfu, fes"
      ],
      "metadata": {
        "id": "_4fAAuOxJgLV"
      },
      "execution_count": 8,
      "outputs": []
    },
    {
      "cell_type": "code",
      "source": [
        "def export_vertex_coordinates(mesh):\n",
        "    vertex_coordinates = []\n",
        "\n",
        "    for v in mesh.vertices:\n",
        "        vertex_coordinates.append(v.point)\n",
        "\n",
        "    vertex_array = torch.tensor(np.array(vertex_coordinates))\n",
        "\n",
        "    return vertex_array"
      ],
      "metadata": {
        "id": "oELY-LESNH0g"
      },
      "execution_count": 9,
      "outputs": []
    },
    {
      "cell_type": "code",
      "source": [
        "def export_fem_solution(mesh, gfu):\n",
        "    vertex_array = export_vertex_coordinates(mesh).to(torch.float32)\n",
        "    mesh_x , mesh_y = vertex_array.T\n",
        "    solution_array =  torch.tensor([x for x in gfu.vec])\n",
        "    return solution_array"
      ],
      "metadata": {
        "id": "S8_S-fxnNNjr"
      },
      "execution_count": 10,
      "outputs": []
    },
    {
      "cell_type": "code",
      "source": [
        "# ref_mesh = Mesh(plate.GenerateMesh(maxh=0.01)).Curve(3)"
      ],
      "metadata": {
        "id": "jY5S2BksJyGA"
      },
      "execution_count": 11,
      "outputs": []
    },
    {
      "cell_type": "code",
      "source": [
        "# ref_gfu, ref_fes = solve_FEM_ref(ref_mesh)"
      ],
      "metadata": {
        "id": "j1qUj6pvKAFl"
      },
      "execution_count": 12,
      "outputs": []
    },
    {
      "cell_type": "code",
      "source": [
        "# ref_vertex_array = export_vertex_coordinates(ref_mesh)\n",
        "\n",
        "# print(type(ref_vertex_array), ref_vertex_array[:5], len(ref_vertex_array))"
      ],
      "metadata": {
        "id": "bUu4VFd6Ko3b"
      },
      "execution_count": 13,
      "outputs": []
    },
    {
      "cell_type": "code",
      "source": [
        "vertex_array = export_vertex_coordinates(mesh)\n",
        "\n",
        "print(type(vertex_array), vertex_array[:5], len(vertex_array))"
      ],
      "metadata": {
        "colab": {
          "base_uri": "https://localhost:8080/"
        },
        "id": "aNKgSstYadN2",
        "outputId": "bf38db0c-b61c-40fd-c2f1-14be7c0513e0"
      },
      "execution_count": 14,
      "outputs": [
        {
          "output_type": "stream",
          "name": "stdout",
          "text": [
            "<class 'torch.Tensor'> tensor([[0.0000, 5.0000],\n",
            "        [0.0000, 0.0000],\n",
            "        [3.0000, 5.0000],\n",
            "        [3.0000, 3.0000],\n",
            "        [5.0000, 3.0000]], dtype=torch.float64) 112\n"
          ]
        }
      ]
    },
    {
      "cell_type": "code",
      "source": [
        "gfu, fes = solve_FEM()\n",
        "print(len(gfu.vec), type(gfu.vec))\n",
        "print(gfu.vec[:5])\n"
      ],
      "metadata": {
        "id": "umryeIBaNQww",
        "colab": {
          "base_uri": "https://localhost:8080/"
        },
        "outputId": "5cbb77f0-3f51-40f8-8e0e-444a2318e5b4"
      },
      "execution_count": 15,
      "outputs": [
        {
          "output_type": "stream",
          "name": "stdout",
          "text": [
            "112 <class 'ngsolve.la.BaseVector'>\n",
            " 67.1141\n",
            "       0\n",
            " 77.6094\n",
            " 59.7978\n",
            " 59.0125\n",
            "\n",
            "\n"
          ]
        }
      ]
    },
    {
      "cell_type": "code",
      "source": [
        "solution_values = np.array(gfu.vec)\n",
        "print(solution_values)"
      ],
      "metadata": {
        "colab": {
          "base_uri": "https://localhost:8080/"
        },
        "id": "ERaat8_ylm9G",
        "outputId": "764559d6-df8b-4f04-d948-adcfffbfcac9"
      },
      "execution_count": 16,
      "outputs": [
        {
          "output_type": "stream",
          "name": "stdout",
          "text": [
            "[67.11411951  0.         77.6093826  59.79775988 59.01250028  0.\n",
            "  7.25261333  8.22288099 38.10660525 35.93006683 15.14923812  8.99056577\n",
            " 41.20360307 46.83902497 51.97444686 49.47772205 42.89482844 35.89526816\n",
            " 14.93488438  8.83801958  2.55365478  2.60272675 66.41007796 62.28243651\n",
            " 74.22008465 74.51415877 74.30823288 69.13555606 67.07776968 64.79081664\n",
            " 57.01918148 55.19212537 53.75909775 57.73812839 65.77046331 60.91541573\n",
            " 55.28766105 51.73743709 47.37859431 41.57742639 33.73493223 21.47091887\n",
            "  9.0005468  77.4478525  76.60803588 75.36164592 71.8755403  68.40569238\n",
            " 76.60424602 72.87823247 67.35029021 57.61783077 57.95708393 58.59500893\n",
            " 10.19273572 28.33006643 45.79982039 53.27736364 57.43753806  0.\n",
            "  0.          0.          0.          0.          0.          0.\n",
            "  0.          0.          3.891009   23.66895928 41.49249136 21.55066072\n",
            " 54.28229702 51.25888049 47.46698399 75.81207458 73.78979386 69.67105179\n",
            " 63.72932506 56.14356521 56.47943667 57.29441688 57.70394962 51.44442283\n",
            " 55.34852966 10.62591101 12.72371562 18.99020231 29.74147727 43.49127812\n",
            " 43.19613792 54.25992687 27.19080307 71.51103342 52.32765661 61.1832789\n",
            " 45.79468625 54.74583817 57.3639226  55.15652196 39.96402592 40.14410053\n",
            " 52.45438917 65.8296958  59.67714945 48.38208913 22.4959825  34.29389592\n",
            " 50.32787749 47.77678654 52.81603339 44.57713479]\n"
          ]
        }
      ]
    },
    {
      "cell_type": "code",
      "source": [
        "#Draw(gfu, mesh, \"Solution\")\n"
      ],
      "metadata": {
        "id": "BqOJYiFiltVZ"
      },
      "execution_count": 17,
      "outputs": []
    },
    {
      "cell_type": "code",
      "source": [
        "print(type(fes))\n",
        "print(fes.ndof)\n",
        "print(fes.mesh)\n",
        "print(fes.FreeDofs())\n",
        "print(fes.type)"
      ],
      "metadata": {
        "colab": {
          "base_uri": "https://localhost:8080/"
        },
        "id": "DXfMV6YTl9bn",
        "outputId": "652b51da-9535-4bea-d535-a77ec84d7c68"
      },
      "execution_count": 18,
      "outputs": [
        {
          "output_type": "stream",
          "name": "stdout",
          "text": [
            "<class 'ngsolve.comp.H1'>\n",
            "112\n",
            "<ngsolve.comp.Mesh object at 0x799a5203fc50>\n",
            "0: 10111011111111111111111111111111111111111111111111\n",
            "50: 11111111100000000011111111111111111111111111111111\n",
            "100: 111111111111\n",
            "h1ho\n"
          ]
        }
      ]
    },
    {
      "cell_type": "code",
      "source": [
        "vertex_array  = export_vertex_coordinates(mesh)\n",
        "solution_array = export_fem_solution(mesh,gfu)\n",
        "mesh_x , mesh_y = vertex_array.T\n",
        "print(vertex_array[:5], len(vertex_array))\n",
        "print(type(mesh_x), mesh_x[:5], len(mesh_x))\n",
        "print(type(mesh_y), mesh_y[:5], len(mesh_y))\n",
        "print(type(solution_array), solution_array[:5], len(solution_array))"
      ],
      "metadata": {
        "colab": {
          "base_uri": "https://localhost:8080/"
        },
        "id": "herKYpRoNThh",
        "outputId": "c28d100a-f308-47c9-debb-08ecb10988a8"
      },
      "execution_count": 19,
      "outputs": [
        {
          "output_type": "stream",
          "name": "stdout",
          "text": [
            "tensor([[0.0000, 5.0000],\n",
            "        [0.0000, 0.0000],\n",
            "        [3.0000, 5.0000],\n",
            "        [3.0000, 3.0000],\n",
            "        [5.0000, 3.0000]], dtype=torch.float64) 112\n",
            "<class 'torch.Tensor'> tensor([0., 0., 3., 3., 5.], dtype=torch.float64) 112\n",
            "<class 'torch.Tensor'> tensor([5.0000, 0.0000, 5.0000, 3.0000, 3.0000], dtype=torch.float64) 112\n",
            "<class 'torch.Tensor'> tensor([67.1141,  0.0000, 77.6094, 59.7978, 59.0125]) 112\n"
          ]
        }
      ]
    },
    {
      "cell_type": "code",
      "source": [
        "import torch\n",
        "import numpy as np\n",
        "from numpy.ma.core import outer\n",
        "from sys import stderr\n",
        "import torch.nn as nn\n",
        "import torch.nn.functional as F\n",
        "import torch.optim as optim\n",
        "from scipy import stats\n",
        "import matplotlib.pyplot as plt\n",
        "from matplotlib.pyplot import scatter, figure\n",
        "from matplotlib.markers import MarkerStyle\n",
        "from torch.utils.data import TensorDataset, DataLoader\n",
        "import pandas as pd\n",
        "\n",
        "import seaborn as sns\n",
        "import warnings\n",
        "warnings.filterwarnings('ignore')"
      ],
      "metadata": {
        "id": "lUaSGNL3NWgS"
      },
      "execution_count": 20,
      "outputs": []
    },
    {
      "cell_type": "code",
      "source": [
        "batch_size = 100  ## vary batch size\n",
        "\n",
        "dataset = TensorDataset(vertex_array, solution_array.reshape(-1,1))\n",
        "dataloader = DataLoader(dataset, batch_size=batch_size, shuffle=True)"
      ],
      "metadata": {
        "id": "6hgyrQ2-Nb42"
      },
      "execution_count": 21,
      "outputs": []
    },
    {
      "cell_type": "code",
      "source": [
        "class FeedForward(nn.Module):\n",
        "\n",
        "    def __init__(self, mesh_x, mesh_y):\n",
        "        super(FeedForward, self).__init__()\n",
        "\n",
        "        self.total_error_history = []\n",
        "        self.boundary_error_history = []\n",
        "        self.train_loss_history = []\n",
        "        self.total_residual_history = []\n",
        "        self.boundary_residual_history = []\n",
        "\n",
        "        self.mesh_point_history = [vertex_coordinates_0]\n",
        "        self.mesh_point_count_history = [mesh_point_count_0]\n",
        "\n",
        "        self.optimizer = None\n",
        "\n",
        "        # weights for the total loss function\n",
        "        self.w_data     = 0.01   #loss_data\n",
        "        self.w_interior = 10      #loss_interior\n",
        "        self.w_bc       = 10      #loss_bc\n",
        "\n",
        "        self.hidden_size = 50\n",
        "        self.num_data = 10\n",
        "        self.num_bd = 50\n",
        "\n",
        "        # 2 input features\n",
        "        self.b1 = nn.Linear(2, self.hidden_size)\n",
        "        self.b2 = nn.Linear(self.hidden_size, self.hidden_size)\n",
        "        self.b3 = nn.Linear(self.hidden_size, 1)\n",
        "\n",
        "        # initialize weights\n",
        "        nn.init.xavier_uniform_(self.b1.weight)\n",
        "        nn.init.xavier_uniform_(self.b2.weight)\n",
        "        nn.init.xavier_uniform_(self.b3.weight)\n",
        "\n",
        "        self.mesh_x  = mesh_x\n",
        "        self.mesh_y  = mesh_y\n",
        "\n",
        "    def forward(self, x, y):\n",
        "\n",
        "        xy = torch.stack((x, y), dim=1)\n",
        "\n",
        "        h1 = torch.tanh(self.b1(xy))\n",
        "        h2 = torch.tanh(self.b2(h1))\n",
        "        u = self.b3(h2)\n",
        "\n",
        "        return u\n",
        "\n",
        "\n",
        "    def compute_derivative(self, u, x, n):\n",
        "        # General formula to compute the n-th order derivative of u = f(x) with respect to x\n",
        "        if n == 0:\n",
        "            return u\n",
        "        else:\n",
        "            du_dx = torch.autograd.grad(u, x, torch.ones_like(u).to(device),\n",
        "                                        create_graph=True, retain_graph=True,\n",
        "                                        allow_unused=True)[0]\n",
        "\n",
        "        return self.compute_derivative(du_dx, x, n - 1)\n",
        "\n",
        "\n",
        "    def PDE_residual(self, x, y, use_meshgrid = False):\n",
        "        if use_meshgrid:\n",
        "\n",
        "            X,Y = torch.meshgrid(x,y)\n",
        "            xy = torch.stack((X.flatten(), Y.flatten()), dim=1)\n",
        "\n",
        "        x = torch.tensor(x, dtype=torch.float32).to(device)\n",
        "        y = torch.tensor(y, dtype=torch.float32).to(device)\n",
        "        x.requires_grad=True\n",
        "        y.requires_grad=True\n",
        "\n",
        "        u = self.forward(x, y)\n",
        "\n",
        "        d2u_dx2 = self.compute_derivative(u, x, 2)\n",
        "        d2u_dy2 = self.compute_derivative(u, y, 2)\n",
        "\n",
        "        residual = d2u_dx2 + d2u_dy2 + x*y\n",
        "        return residual\n",
        "\n",
        "\n",
        "    def loss_data(self):\n",
        "        # xy, u = next(iter(dataloader))\n",
        "        torch.manual_seed(42)\n",
        "        idx = torch.randint(len(dataset), (self.num_data,))\n",
        "        xy, u = dataset[idx]\n",
        "\n",
        "        x, y  = xy.unbind(axis=1)\n",
        "\n",
        "        x = torch.tensor(x, dtype=torch.float32).to(device)\n",
        "        y = torch.tensor(y, dtype=torch.float32).to(device)\n",
        "        u = torch.tensor(u, dtype=torch.float32).to(device)\n",
        "\n",
        "        u_pred = self.forward(x, y)\n",
        "        loss_data = torch.mean(torch.square(u - u_pred))\n",
        "        return loss_data\n",
        "\n",
        "\n",
        "    def loss_interior(self):\n",
        "        res = self.PDE_residual(self.mesh_x, self.mesh_y)\n",
        "        loss_residual = torch.mean(torch.square(0 - res))\n",
        "        return loss_residual\n",
        "\n",
        "\n",
        "    def loss_boundary_condition(self):\n",
        "\n",
        "        self.x_bottom = torch.linspace(0, 5, self.num_bd).reshape(-1)\n",
        "        self.y_bottom = torch.zeros(1, self.num_bd).reshape(-1)\n",
        "\n",
        "        bc_pred_bottom = self.forward(self.x_bottom.to(device), self.y_bottom.to(device))\n",
        "        loss_bc_bottom = torch.mean(torch.square(0 - bc_pred_bottom))\n",
        "\n",
        "        loss_bc = loss_bc_bottom\n",
        "        return loss_bc\n",
        "\n",
        "\n",
        "    def compute_losses(self):\n",
        "        loss_interior = self.loss_interior()\n",
        "        loss_data = self.loss_data()\n",
        "        loss_bc = self.loss_boundary_condition()\n",
        "        return loss_interior, loss_data, loss_bc\n",
        "\n",
        "\n",
        "    def closure(self):\n",
        "        self.optimizer.zero_grad()\n",
        "        loss_interior, loss_data, loss_bc = self.compute_losses()\n",
        "        total_loss = self.w_data * loss_data + self.w_interior * loss_interior + self.w_bc * loss_bc\n",
        "        total_loss.backward(retain_graph=True)\n",
        "        return total_loss\n",
        "\n",
        "\n",
        "    def get_training_history(self):\n",
        "        loss_hist = np.array(self.train_loss_history)\n",
        "        total_loss, loss_bc, loss_interior, loss_data = np.split(loss_hist, 4, axis=1)\n",
        "        return total_loss, loss_bc, loss_interior, loss_data\n",
        "\n",
        "\n",
        "    def plot_pinn_losses(self):\n",
        "            total_loss, loss_interior, loss_data, loss_bc = self.get_training_history()\n",
        "\n",
        "            plt.figure(figsize=(8, 6))\n",
        "\n",
        "            plt.subplot(2, 2, 1)\n",
        "            plt.plot(total_loss, marker=MarkerStyle('o', fillstyle='none'), color='black', label='Total Loss')\n",
        "            plt.yscale('log')\n",
        "            plt.legend()\n",
        "\n",
        "            plt.subplot(2, 2, 2)\n",
        "            plt.plot(loss_bc, marker=MarkerStyle('o', fillstyle='none'), color='red', label='Boundary Condition Loss')\n",
        "            plt.yscale('log')\n",
        "            plt.legend()\n",
        "\n",
        "            plt.subplot(2, 2, 3)\n",
        "            plt.plot(loss_interior, marker=MarkerStyle('o', fillstyle='none'), color='blue', label='Interior Loss')\n",
        "            plt.yscale('log')\n",
        "            plt.legend()\n",
        "\n",
        "            plt.subplot(2, 2, 4)\n",
        "            plt.plot(loss_data, marker=MarkerStyle('o', fillstyle='none'), color='green', label='Data Loss')\n",
        "            plt.yscale('log')\n",
        "            plt.legend()\n",
        "\n",
        "            plt.tight_layout()\n",
        "            plt.show()\n",
        "\n",
        "    def plot_pde_residuals(self):\n",
        "            plt.figure(figsize=(15, 4))\n",
        "\n",
        "            plt.subplot(1, 3, 1)\n",
        "            plt.plot(self.mesh_point_count_history, marker=MarkerStyle('o', fillstyle='none'), color='black', label='mesh point count')\n",
        "            plt.legend()\n",
        "\n",
        "            plt.subplot(1, 3, 2)\n",
        "            plt.plot(self.total_residual_history, marker=MarkerStyle('o', fillstyle='none'), color='red', label='total residual')\n",
        "            plt.yscale('log')\n",
        "            plt.legend()\n",
        "\n",
        "            plt.subplot(1, 3, 3)\n",
        "            plt.plot(self.boundary_residual_history, marker=MarkerStyle('o', fillstyle='none'), color='red', label='boundary residual')\n",
        "            plt.yscale('log')\n",
        "            plt.legend()\n",
        "\n",
        "            plt.tight_layout()\n",
        "            plt.show()\n",
        "\n",
        "    def plot_model_error(self):\n",
        "        plt.figure(figsize=(10, 4))\n",
        "\n",
        "        plt.subplot(1, 2, 1)\n",
        "        plt.plot(self.total_error_history, marker=MarkerStyle('o', fillstyle='none'), color='black', label='total error')\n",
        "        plt.yscale('log')\n",
        "        plt.legend()\n",
        "\n",
        "        plt.subplot(1, 2, 2)\n",
        "        plt.plot(self.boundary_error_history, marker=MarkerStyle('o', fillstyle='none'), color='red', label='boundary error')\n",
        "        plt.yscale('log')\n",
        "        plt.legend()\n",
        "\n",
        "        plt.tight_layout()\n",
        "        plt.show()"
      ],
      "metadata": {
        "id": "PP2Qy72hNhVF"
      },
      "execution_count": 22,
      "outputs": []
    },
    {
      "cell_type": "code",
      "source": [
        "device = torch.device(\"cuda:0\" if torch.cuda.is_available() else \"cpu\")\n",
        "print(device)\n",
        "\n",
        "model = FeedForward(mesh_x=mesh_x, mesh_y = mesh_y).to(device)\n",
        "print(model)\n",
        "print(\"Params:\", sum(p.numel() for p in model.parameters() if p.requires_grad))"
      ],
      "metadata": {
        "colab": {
          "base_uri": "https://localhost:8080/"
        },
        "id": "uTIJN6T_NoxW",
        "outputId": "7a545925-ce03-47d9-d25a-42954c724936"
      },
      "execution_count": 23,
      "outputs": [
        {
          "output_type": "stream",
          "name": "stdout",
          "text": [
            "cpu\n",
            "FeedForward(\n",
            "  (b1): Linear(in_features=2, out_features=50, bias=True)\n",
            "  (b2): Linear(in_features=50, out_features=50, bias=True)\n",
            "  (b3): Linear(in_features=50, out_features=1, bias=True)\n",
            ")\n",
            "Params: 2751\n"
          ]
        }
      ]
    },
    {
      "cell_type": "code",
      "source": [
        "def train(self, epochs, optimizer='Adam', w_interior=1, w_bc=10, w_data=0.01, **kwargs):\n",
        "        if optimizer == 'Adam':\n",
        "            self.optimizer = torch.optim.Adam(self.parameters(), **kwargs)\n",
        "\n",
        "        elif optimizer == 'L-BFGS':\n",
        "            self.optimizer = torch.optim.LBFGS(self.parameters(), **kwargs)\n",
        "\n",
        "        # Training loop\n",
        "        for epoch in range(epochs+1):\n",
        "            self.optimizer.step(self.closure)\n",
        "\n",
        "            # track progress and accumulate loss data for plotting\n",
        "            if epoch % 1000 == 0:\n",
        "                loss_interior, loss_data, loss_bc = self.compute_losses()\n",
        "                total_loss = loss_interior + loss_bc\n",
        "\n",
        "                self.train_loss_history.append([total_loss.cpu().detach().numpy(),\n",
        "                                                loss_interior.cpu().detach().numpy(),\n",
        "                                                loss_data.cpu().detach().numpy(),\n",
        "                                                loss_bc.cpu().detach().numpy(),\n",
        "\n",
        "                                                ])\n",
        "\n",
        "                print(f'Epoch ({optimizer}): {epoch}, Total PINN Loss: {total_loss.detach().cpu().numpy()}')"
      ],
      "metadata": {
        "id": "pqb1xa7tNsiE"
      },
      "execution_count": 24,
      "outputs": []
    },
    {
      "cell_type": "code",
      "source": [
        "def export_to_png(mesh, gfu, fieldname, filename, size=600):\n",
        "    vtk = VTKOutput(mesh,coefs=[gfu],names=[fieldname],filename=\"./vtk_export\",subdivision=0)\n",
        "    vtk.Do()\n",
        "\n",
        "    # Read the VTU file\n",
        "    meshpv = pv.read(\"./vtk_export.vtu\")\n",
        "\n",
        "\n",
        "    # Step 2: Check if the \"sol\" field exists\n",
        "    if fieldname in meshpv.point_data:\n",
        "\n",
        "        plotter = pv.Plotter(window_size=[size, size])\n",
        "        plotter.add_mesh(meshpv, scalars=fieldname, show_scalar_bar=True, cmap='bwr')\n",
        "        plotter.add_mesh(meshpv, color=\"white\", style=\"wireframe\", show_scalar_bar=False)\n",
        "        plotter.view_xy()\n",
        "        plotter.scalar_bar.SetPosition(0.85, 0.15)  # Position (x, y) between 0 and 1\n",
        "        plotter.scalar_bar.SetOrientationToVertical()\n",
        "        plotter.scalar_bar.SetWidth(0.05)\n",
        "        plotter.scalar_bar.SetHeight(0.7)\n",
        "        # plotter.scalar_bar.SetLabelFormat(\"%-#6.0f\")\n",
        "        plotter.scalar_bar.SetLabelFormat(\"%2.2e\")\n",
        "\n",
        "        plotter.show(screenshot=directory+filename)"
      ],
      "metadata": {
        "id": "kDif2RS7NzIp"
      },
      "execution_count": 25,
      "outputs": []
    },
    {
      "cell_type": "code",
      "source": [
        "export = False\n",
        "\n",
        "## Need to understand what this is doing clearly\n",
        "\n",
        "def get_model_error(model, mesh, gfu):\n",
        "    u_pred = model.forward(model.mesh_x.to(device).float(), model.mesh_y.to(device).float())\n",
        "    u_pred = u_pred.detach().cpu().numpy()\n",
        "    u_plot = GridFunction(fes)\n",
        "    u_plot.vec[:] = BaseVector(u_pred.flatten())\n",
        "\n",
        "    if not os.path.exists(directory): # Create the directory if it does not exist\n",
        "        os.makedirs(directory)\n",
        "\n",
        "    error = (u_plot - gfu)*(u_plot - gfu) ## compares a solution value u(x,y) from pinn and fe_solution\n",
        "                                          # at the same point?\n",
        "\n",
        "    ## I think there may be an issue with model_error and total_error.\n",
        "    #  how do they differ?\n",
        "    model_error = Integrate(error, mesh, VOL, element_wise=True)\n",
        "    total_error = Integrate(error, mesh, VOL)  ##\n",
        "    boundary_error = Integrate(error, mesh, BND)\n",
        "\n",
        "\n",
        "    model.total_error_history.append(total_error)\n",
        "    model.boundary_error_history.append(boundary_error)\n",
        "\n",
        "    if export:\n",
        "        export_to_png(mesh,(u_plot - gfu)*(u_plot - gfu),\n",
        "                      fieldname = 'errors',\n",
        "                      filename =  'errors_'+str(iteration))\n"
      ],
      "metadata": {
        "id": "kdFMyDArN4Mh"
      },
      "execution_count": 26,
      "outputs": []
    },
    {
      "cell_type": "code",
      "source": [
        "def refine_mesh(model, fe_space, mesh):\n",
        "    res = model.PDE_residual(model.mesh_x, model.mesh_y).detach().numpy()\n",
        "    residuals = GridFunction(fe_space)\n",
        "    residuals.vec[:] = BaseVector(res.flatten())\n",
        "    residuals = (residuals)*(residuals) #integrate not element-wise but over entire domain to get one number\n",
        "    eta2 = Integrate(residuals, mesh, VOL, element_wise=True)\n",
        "\n",
        "    total_residual = Integrate(residuals, mesh, VOL)\n",
        "    boundary_residual = Integrate(residuals, mesh, BND)\n",
        "\n",
        "    maxerr = max(eta2)\n",
        "    #Draw(residuals, mesh)\n",
        "\n",
        "    model.boundary_residual_history.append(boundary_residual)\n",
        "    model.total_residual_history.append(total_residual)\n",
        "\n",
        "    if export:\n",
        "        export_to_png(mesh, residuals ,\n",
        "                      fieldname = 'residuals',\n",
        "                      filename =  'residuals_'+str(iteration))\n",
        "\n",
        "    # mark for refinement (vectorized alternative)\n",
        "    mesh.ngmesh.Elements2D().NumPy()[\"refine\"] = eta2.NumPy() > 0.90*maxerr\n",
        "    mesh.Refine()\n",
        "\n",
        "    '''\n",
        "    #coordinates of new mesh are placed into mesh_x and mesh_y\n",
        "    #not returned but updated and stored in list\n",
        "    new_mesh_x, new_mesh_y = export_vertex_coordinates(mesh).unbind(1)\n",
        "\n",
        "    new_mesh_x = new_mesh_x.numpy()\n",
        "    new_mesh_y = new_mesh_y.numpy()\n",
        "\n",
        "\n",
        "    old_mesh_x = model.mesh_x.numpy()\n",
        "    old_mesh_y = model.mesh_y.numpy()\n",
        "\n",
        "    new_x_points = torch.tensor(np.setdiff1d(new_mesh_x, old_mesh_x)).to(device)\n",
        "    new_y_points = torch.tensor(np.setdiff1d(new_mesh_y, old_mesh_y)).to(device)\n",
        "\n",
        "    model.mesh_x = new_mesh_x   #new_x_points  #new_mesh_x\n",
        "    model.mesh_y = new_mesh_y   #new_y_points  #new_mesh_y\n",
        "\n",
        "    # Append to history\n",
        "    model.mesh_point_history.append((new_mesh_x, new_mesh_y))\n",
        "    model.mesh_point_count_history.append(len(new_x_points))\n",
        "\n",
        "    print(new_x_points.shape)\n",
        "    '''\n",
        "    #coordinates of new mesh are placed into mesh_x and mesh_y\n",
        "    #not returned but updated and stored in list\n",
        "    mesh_x, mesh_y = export_vertex_coordinates(mesh).unbind(1)\n",
        "    model.mesh_x = mesh_x\n",
        "    model.mesh_y = mesh_y\n",
        "\n",
        "\n",
        "    # Append to history\n",
        "    model.mesh_point_history.append((model.mesh_x.numpy(), model.mesh_y.numpy()))\n",
        "    model.mesh_point_count_history.append(len(model.mesh_x))"
      ],
      "metadata": {
        "id": "pOxtV_5MN8F0"
      },
      "execution_count": 27,
      "outputs": []
    },
    {
      "cell_type": "code",
      "source": [
        "epochs = 2000\n",
        "iterations = 10"
      ],
      "metadata": {
        "id": "TjEIQ7oaOGam"
      },
      "execution_count": 28,
      "outputs": []
    },
    {
      "cell_type": "code",
      "source": [
        "def adapt_mesh_and_train(model, mesh):\n",
        "    fe_solution, fe_space = solve_FEM() #uses mesh\n",
        "    train(model, epochs, lr=1e-3) # train pinn model on mesh points\n",
        "    get_model_error(model, mesh, fe_solution) # compare pinn predictions to fe_solution to get eta2\n",
        "    refine_mesh(model, fe_space, mesh) # refine mesh based on pinn error relative to fe_solution\n",
        "                                       # refinement at location of large errors"
      ],
      "metadata": {
        "id": "f0oErs_XOHMG"
      },
      "execution_count": 29,
      "outputs": []
    },
    {
      "cell_type": "code",
      "source": [
        "for iteration in range(iterations):\n",
        "    print(f\"Iteration number: {iteration + 1}\")\n",
        "    adapt_mesh_and_train(model, mesh)\n",
        "    print()"
      ],
      "metadata": {
        "colab": {
          "base_uri": "https://localhost:8080/"
        },
        "id": "fH34lQK-OKMD",
        "outputId": "92a426bd-c6af-4307-ab8d-18f7504a0f55"
      },
      "execution_count": 30,
      "outputs": [
        {
          "output_type": "stream",
          "name": "stdout",
          "text": [
            "Iteration number: 1\n",
            "Epoch (Adam): 0, Total PINN Loss: 37.666202545166016\n",
            "Epoch (Adam): 1000, Total PINN Loss: 0.016756664961576462\n",
            "Epoch (Adam): 2000, Total PINN Loss: 0.0077949464321136475\n",
            "\n",
            "Iteration number: 2\n",
            "Epoch (Adam): 0, Total PINN Loss: 0.1849832385778427\n",
            "Epoch (Adam): 1000, Total PINN Loss: 0.0029456517659127712\n",
            "Epoch (Adam): 2000, Total PINN Loss: 0.0015365304425358772\n",
            "\n",
            "Iteration number: 3\n",
            "Epoch (Adam): 0, Total PINN Loss: 0.8324055075645447\n",
            "Epoch (Adam): 1000, Total PINN Loss: 0.0014135122764855623\n",
            "Epoch (Adam): 2000, Total PINN Loss: 0.0005033946945331991\n",
            "\n",
            "Iteration number: 4\n",
            "Epoch (Adam): 0, Total PINN Loss: 0.6092678904533386\n",
            "Epoch (Adam): 1000, Total PINN Loss: 0.0004326759371906519\n",
            "Epoch (Adam): 2000, Total PINN Loss: 0.0002917941310442984\n",
            "\n",
            "Iteration number: 5\n",
            "Epoch (Adam): 0, Total PINN Loss: 0.6683550477027893\n",
            "Epoch (Adam): 1000, Total PINN Loss: 0.007685360964387655\n",
            "Epoch (Adam): 2000, Total PINN Loss: 0.00024269714776892215\n",
            "\n",
            "Iteration number: 6\n",
            "Epoch (Adam): 0, Total PINN Loss: 1.1605335474014282\n",
            "Epoch (Adam): 1000, Total PINN Loss: 0.0002467242593411356\n",
            "Epoch (Adam): 2000, Total PINN Loss: 0.0002280969056300819\n",
            "\n",
            "Iteration number: 7\n",
            "Epoch (Adam): 0, Total PINN Loss: 0.6362508535385132\n",
            "Epoch (Adam): 1000, Total PINN Loss: 0.000260166940279305\n",
            "Epoch (Adam): 2000, Total PINN Loss: 0.00025439352612011135\n",
            "\n",
            "Iteration number: 8\n",
            "Epoch (Adam): 0, Total PINN Loss: 0.9566586017608643\n",
            "Epoch (Adam): 1000, Total PINN Loss: 0.0005061791162006557\n",
            "Epoch (Adam): 2000, Total PINN Loss: 0.000645212538074702\n",
            "\n",
            "Iteration number: 9\n",
            "Epoch (Adam): 0, Total PINN Loss: 1.2673231363296509\n",
            "Epoch (Adam): 1000, Total PINN Loss: 0.00039761114749126136\n",
            "Epoch (Adam): 2000, Total PINN Loss: 0.00050523312529549\n",
            "\n",
            "Iteration number: 10\n",
            "Epoch (Adam): 0, Total PINN Loss: 1.4957191944122314\n",
            "Epoch (Adam): 1000, Total PINN Loss: 0.00036707037361338735\n",
            "Epoch (Adam): 2000, Total PINN Loss: 0.00035063945688307285\n",
            "\n"
          ]
        }
      ]
    },
    {
      "cell_type": "code",
      "source": [
        "def get_random_points(mesh, random_point_count=1_000):\n",
        "    random_points = []\n",
        "\n",
        "    for i in range(random_point_count):\n",
        "        # Generate random (x,y) coordinates in the domain [0, 5]\n",
        "        x, y = np.random.uniform(0, 5), np.random.uniform(0, 5)\n",
        "\n",
        "        # Check if the generated point (x,y) is in the domain\n",
        "        if not mesh(x,y).nr == -1:\n",
        "            random_points.append((x, y))\n",
        "\n",
        "    rand_points = np.array(random_points)\n",
        "    rand_x, rand_y = rand_points.T\n",
        "\n",
        "    return rand_x, rand_y"
      ],
      "metadata": {
        "id": "CKj8uTLpONGw"
      },
      "execution_count": 31,
      "outputs": []
    },
    {
      "cell_type": "code",
      "source": [
        "def get_random_model_error(model, mesh, gfu, mesh_x, mesh_y):\n",
        "    #make predictions at the points (mesh_x, mesh_y)\n",
        "\n",
        "\n",
        "    u_pred = model.forward(mesh_x.to(device).float(), mesh_y.to(device).float())\n",
        "    u_pred = u_pred.detach().cpu().numpy()\n",
        "    u_plot = GridFunction(fes)\n",
        "    u_plot.vec[:] = BaseVector(u_pred.flatten()) #places prediction values (u_pred) onto the\n",
        "                                                 #fe_space? a value at a mesh point or something else?\n",
        "\n",
        "    if not os.path.exists(directory): # Create the directory if it does not exist\n",
        "        os.makedirs(directory)\n",
        "\n",
        "    error = (u_plot - gfu)*(u_plot - gfu) #this is the difference at each of many locations? gfu = final mesh of adaptive process\n",
        "                                          #difference at mesh points or something else?\n",
        "    model_error = Integrate(error, mesh, VOL, element_wise=True) #over the whole surface\n",
        "                                                                 #sum over difference at locations\n",
        "\n",
        "    ## should error be model_error? if not why do we want model_error?\n",
        "    total_error = Integrate(error, mesh, VOL)\n",
        "    boundary_error = Integrate(error, mesh, BND) ## these are boundary points of the mesh all around\n",
        "                                                 ##\n",
        "\n",
        "\n",
        "    res = model.PDE_residual(mesh_x, mesh_y).detach().numpy()\n",
        "    residuals = GridFunction(fes)\n",
        "    residuals.vec[:] = BaseVector(res.flatten())\n",
        "    residuals = (residuals)*(residuals) #integrate not element-wise but over entire domain to get one number\n",
        "\n",
        "    total_residual = Integrate(residuals, mesh, VOL)\n",
        "    boundary_residual = Integrate(residuals, mesh, BND)\n",
        "\n",
        "    model.total_error_history.append(total_error)\n",
        "    model.boundary_error_history.append(boundary_error)\n",
        "    model.total_residual_history.append(total_residual)\n",
        "    model.boundary_residual_history.append(boundary_residual)\n",
        "\n",
        "\n",
        "    if export:\n",
        "        export_to_png(mesh,(u_plot - gfu)*(u_plot - gfu),\n",
        "                      fieldname = 'errors',\n",
        "                      filename =  'errors_'+str(iteration))\n",
        "\n",
        "    #return total_error_history, boundary_error_history"
      ],
      "metadata": {
        "id": "LdlqYvnGPK6W"
      },
      "execution_count": 32,
      "outputs": []
    },
    {
      "cell_type": "code",
      "source": [
        "rand_x, rand_y = get_random_points(mesh=mesh,\n",
        "                                   random_point_count=model.mesh_point_count_history[0])\n",
        "rand_model = FeedForward(rand_x, rand_y)\n",
        "\n",
        "\n",
        "\n",
        "for iteration in range(iterations):\n",
        "    print(f\"Iteration number: {iteration + 1}\")\n",
        "    train_x, train_y = get_random_points(mesh=mesh,\n",
        "                                   random_point_count=model.mesh_point_count_history[iteration])\n",
        "    rand_model.mesh_x = train_x\n",
        "    rand_model.mesh_y = train_y\n",
        "\n",
        "    train(rand_model, epochs, lr=1e-3)\n",
        "\n",
        "    eval_x = torch.tensor(model.mesh_point_history[-1][0])\n",
        "    eval_y = torch.tensor(model.mesh_point_history[-1][1])\n",
        "\n",
        "    rand_model.mesh_point_count_history.append(len(rand_model.mesh_x))\n",
        "    get_random_model_error(rand_model, mesh, gfu, eval_x, eval_y)\n",
        "\n",
        "    print()"
      ],
      "metadata": {
        "colab": {
          "base_uri": "https://localhost:8080/"
        },
        "id": "F9iL3WVZPcA9",
        "outputId": "44155f10-33ce-4742-9e20-4b52eba3000b"
      },
      "execution_count": 33,
      "outputs": [
        {
          "output_type": "stream",
          "name": "stdout",
          "text": [
            "Iteration number: 1\n",
            "Epoch (Adam): 0, Total PINN Loss: 34.43524932861328\n",
            "Epoch (Adam): 1000, Total PINN Loss: 0.02032061293721199\n",
            "Epoch (Adam): 2000, Total PINN Loss: 0.0013932985020801425\n",
            "\n",
            "Iteration number: 2\n",
            "Epoch (Adam): 0, Total PINN Loss: 26.85630226135254\n",
            "Epoch (Adam): 1000, Total PINN Loss: 0.011976092122495174\n",
            "Epoch (Adam): 2000, Total PINN Loss: 0.006600343156605959\n",
            "\n",
            "Iteration number: 3\n",
            "Epoch (Adam): 0, Total PINN Loss: 132.02223205566406\n",
            "Epoch (Adam): 1000, Total PINN Loss: 0.02914918214082718\n",
            "Epoch (Adam): 2000, Total PINN Loss: 0.007846969179809093\n",
            "\n",
            "Iteration number: 4\n",
            "Epoch (Adam): 0, Total PINN Loss: 23.9598331451416\n",
            "Epoch (Adam): 1000, Total PINN Loss: 0.011794598773121834\n",
            "Epoch (Adam): 2000, Total PINN Loss: 0.006718038115650415\n",
            "\n",
            "Iteration number: 5\n",
            "Epoch (Adam): 0, Total PINN Loss: 11.061643600463867\n",
            "Epoch (Adam): 1000, Total PINN Loss: 0.008800024166703224\n",
            "Epoch (Adam): 2000, Total PINN Loss: 0.002570017706602812\n",
            "\n",
            "Iteration number: 6\n",
            "Epoch (Adam): 0, Total PINN Loss: 17.481464385986328\n",
            "Epoch (Adam): 1000, Total PINN Loss: 0.00939807016402483\n",
            "Epoch (Adam): 2000, Total PINN Loss: 0.0030670221894979477\n",
            "\n",
            "Iteration number: 7\n",
            "Epoch (Adam): 0, Total PINN Loss: 5.265770435333252\n",
            "Epoch (Adam): 1000, Total PINN Loss: 0.0037167167756706476\n",
            "Epoch (Adam): 2000, Total PINN Loss: 0.0027165061328560114\n",
            "\n",
            "Iteration number: 8\n",
            "Epoch (Adam): 0, Total PINN Loss: 9.556092262268066\n",
            "Epoch (Adam): 1000, Total PINN Loss: 0.005296248942613602\n",
            "Epoch (Adam): 2000, Total PINN Loss: 0.0029270711820572615\n",
            "\n",
            "Iteration number: 9\n",
            "Epoch (Adam): 0, Total PINN Loss: 0.6756828427314758\n",
            "Epoch (Adam): 1000, Total PINN Loss: 0.0010284370509907603\n",
            "Epoch (Adam): 2000, Total PINN Loss: 0.0007233208743855357\n",
            "\n",
            "Iteration number: 10\n",
            "Epoch (Adam): 0, Total PINN Loss: 0.5272667407989502\n",
            "Epoch (Adam): 1000, Total PINN Loss: 0.0009005743777379394\n",
            "Epoch (Adam): 2000, Total PINN Loss: 0.000832871999591589\n",
            "\n"
          ]
        }
      ]
    },
    {
      "cell_type": "code",
      "source": [
        "'''\n",
        "def plot_all_errors(models, labels):\n",
        "    plt.figure(figsize=(10, 4))\n",
        "    plt.subplot(2, 2, 1)\n",
        "\n",
        "    for i,model in enumerate(models) :\n",
        "\n",
        "        plt.plot(model.total_error_history, label=labels[i])\n",
        "        plt.yscale('log')\n",
        "    plt.legend()\n",
        "    plt.tight_layout()\n",
        "    plt.title('total error history')\n",
        "\n",
        "    plt.subplot(2, 2, 2)\n",
        "    for i,model in enumerate(models) :\n",
        "        plt.plot(model.boundary_error_history, label=labels[i])\n",
        "        plt.yscale('log')\n",
        "\n",
        "    plt.title('boundary error history')\n",
        "    plt.legend()\n",
        "    plt.tight_layout()\n",
        "\n",
        "    plt.subplot(2, 2, 3)\n",
        "    for i,model in enumerate(models) :\n",
        "        plt.plot(model.total_residual_history, label=labels[i])\n",
        "        plt.yscale('log')\n",
        "\n",
        "    plt.title('total residual history')\n",
        "    plt.legend()\n",
        "    plt.tight_layout()\n",
        "\n",
        "    plt.subplot(2, 2, 4)\n",
        "    for i,model in enumerate(models) :\n",
        "        plt.plot(model.boundary_residual_history, label=labels[i])\n",
        "        plt.yscale('log')\n",
        "\n",
        "    plt.title('boundary residual history')\n",
        "    plt.legend()\n",
        "    plt.tight_layout()\n",
        "    plt.show()\n",
        "'''"
      ],
      "metadata": {
        "id": "i6VhU4-sPdQ3",
        "colab": {
          "base_uri": "https://localhost:8080/",
          "height": 174
        },
        "outputId": "4b91f95b-0d2f-4ec1-c60c-db4123585411"
      },
      "execution_count": 34,
      "outputs": [
        {
          "output_type": "execute_result",
          "data": {
            "text/plain": [
              "\"\\ndef plot_all_errors(models, labels):\\n    plt.figure(figsize=(10, 4))\\n    plt.subplot(2, 2, 1)\\n\\n    for i,model in enumerate(models) :\\n\\n        plt.plot(model.total_error_history, label=labels[i])\\n        plt.yscale('log')\\n    plt.legend()\\n    plt.tight_layout()\\n    plt.title('total error history')\\n\\n    plt.subplot(2, 2, 2)\\n    for i,model in enumerate(models) :\\n        plt.plot(model.boundary_error_history, label=labels[i])\\n        plt.yscale('log')\\n\\n    plt.title('boundary error history')\\n    plt.legend()\\n    plt.tight_layout()\\n\\n    plt.subplot(2, 2, 3)\\n    for i,model in enumerate(models) :\\n        plt.plot(model.total_residual_history, label=labels[i])\\n        plt.yscale('log')\\n\\n    plt.title('total residual history')\\n    plt.legend()\\n    plt.tight_layout()\\n\\n    plt.subplot(2, 2, 4)\\n    for i,model in enumerate(models) :\\n        plt.plot(model.boundary_residual_history, label=labels[i])\\n        plt.yscale('log')\\n\\n    plt.title('boundary residual history')\\n    plt.legend()\\n    plt.tight_layout()\\n    plt.show()\\n\""
            ],
            "application/vnd.google.colaboratory.intrinsic+json": {
              "type": "string"
            }
          },
          "metadata": {},
          "execution_count": 34
        }
      ]
    },
    {
      "cell_type": "code",
      "source": [
        "def plot_all_errors(models, labels):\n",
        "    # Calculate global y-axis limits across all data\n",
        "    max_y = float('-inf')\n",
        "    min_y = float('inf')\n",
        "    for model in models:\n",
        "        all_values = []  # Initialize as an empty list\n",
        "        for attr in ['total_error_history', 'boundary_error_history',\n",
        "                     'total_residual_history', 'boundary_residual_history']:\n",
        "            values = getattr(model, attr, [])  # Get attribute value, default to [] if not found\n",
        "            all_values.extend(values)  # Extend all_values with the attribute values\n",
        "\n",
        "        if all_values:  # Check if all_values is not empty\n",
        "            max_y = max(max_y, max(all_values))\n",
        "            min_y = min(min_y, min(all_values))\n",
        "\n",
        "    # Ensure limits are reasonable for a log scale\n",
        "    if min_y <= 0:  # Log scale can't handle values <= 0\n",
        "        min_y = 1e-6  # Set to a very small positive number\n",
        "\n",
        "    y_limits = (min_y, max_y)  # Common y-axis limits\n",
        "\n",
        "    plt.figure(figsize=(10, 8))\n",
        "\n",
        "    # Plot total error history\n",
        "    plt.subplot(2, 2, 1)\n",
        "    for i, model in enumerate(models):\n",
        "        plt.plot(model.total_error_history, label=labels[i])\n",
        "    plt.yscale('log')\n",
        "    plt.ylim(y_limits)  # Apply global y-axis limits\n",
        "    plt.title('Total Error History')\n",
        "    plt.legend()\n",
        "    plt.tight_layout()\n",
        "\n",
        "    # Plot boundary error history\n",
        "    plt.subplot(2, 2, 2)\n",
        "    for i, model in enumerate(models):\n",
        "        plt.plot(model.boundary_error_history, label=labels[i])\n",
        "    plt.yscale('log')\n",
        "    plt.ylim(y_limits)  # Apply global y-axis limits\n",
        "    plt.title('Boundary Error History')\n",
        "    plt.legend()\n",
        "    plt.tight_layout()\n",
        "\n",
        "    # Plot total residual history\n",
        "    plt.subplot(2, 2, 3)\n",
        "    for i, model in enumerate(models):\n",
        "        plt.plot(model.total_residual_history, label=labels[i])\n",
        "    plt.yscale('log')\n",
        "    plt.ylim(y_limits)  # Apply global y-axis limits\n",
        "    plt.title('Total Residual History')\n",
        "    plt.legend()\n",
        "    plt.tight_layout()\n",
        "\n",
        "    # Plot boundary residual history\n",
        "    plt.subplot(2, 2, 4)\n",
        "    for i, model in enumerate(models):\n",
        "        plt.plot(model.boundary_residual_history, label=labels[i])\n",
        "    plt.yscale('log')\n",
        "    plt.ylim(y_limits)  # Apply global y-axis limits\n",
        "    plt.title('Boundary Residual History')\n",
        "    plt.legend()\n",
        "    plt.tight_layout()\n",
        "\n",
        "    plt.show()\n"
      ],
      "metadata": {
        "id": "jrERzKipTH3t"
      },
      "execution_count": 35,
      "outputs": []
    },
    {
      "cell_type": "code",
      "source": [
        "plot_all_errors([model, rand_model], ['mesh model', 'random model'])"
      ],
      "metadata": {
        "colab": {
          "base_uri": "https://localhost:8080/",
          "height": 757
        },
        "id": "dLINA766PozH",
        "outputId": "d93e82d0-30c0-4c0c-ab67-28d8a16166a2"
      },
      "execution_count": 36,
      "outputs": [
        {
          "output_type": "display_data",
          "data": {
            "text/plain": [
              "<Figure size 1000x800 with 4 Axes>"
            ],
            "image/png": "[encoded data removed]"
          },
          "metadata": {}
        }
      ]
    },
    {
      "cell_type": "code",
      "source": [],
      "metadata": {
        "id": "2JwIrWCNQWSh"
      },
      "execution_count": 36,
      "outputs": []
    }
  ]
}